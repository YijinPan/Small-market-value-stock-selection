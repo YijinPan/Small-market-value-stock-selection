{
 "cells": [
  {
   "cell_type": "code",
   "execution_count": 87,
   "metadata": {},
   "outputs": [],
   "source": [
    "import pandas as pd\n",
    "import matplotlib.pyplot as plt\n",
    "pd.set_option('expand_frame_repr', False)\n"
   ]
  },
  {
   "cell_type": "code",
   "execution_count": 112,
   "metadata": {},
   "outputs": [],
   "source": [
    "stock_data = pd.read_csv('D:\\邢不行量化投资\\系列19：10年翻400倍的策略\\stock_data.csv',  engine='python',\n",
    "                         encoding='gbk')  # 此处填入数据在本地的路径"
   ]
  },
  {
   "cell_type": "code",
   "execution_count": 113,
   "metadata": {},
   "outputs": [
    {
     "name": "stdout",
     "output_type": "stream",
     "text": [
      "             交易日期      股票代码           总市值  是否交易   最后一天涨跌幅  交易天数      下月涨幅  市值_排名\n",
      "26288  2006-01-31  sh600137  1.712058e+08     1 -0.037543    16  0.042551    7.0\n",
      "44887  2006-01-31  sh600234  1.670708e+08     1 -0.011111    16  0.005618    6.0\n",
      "54133  2006-01-31  sh600286  1.128600e+08     1  0.010204    16  0.252526    1.0\n",
      "126774 2006-01-31  sh600691  1.785041e+08     1 -0.037500    16  0.056279    8.0\n",
      "144673 2006-01-31  sh600762  1.394765e+08     1 -0.050360    15  0.143939    3.0\n",
      "179005 2006-01-31  sh600892  1.908900e+08     1  0.010695    16  0.015875   10.0\n",
      "221798 2006-01-31  sz000156  1.476450e+08     1 -0.049689    16  0.124185    5.0\n",
      "260878 2006-01-31  sz000622  1.459943e+08     1 -0.019048    16  0.796116    4.0\n",
      "282835 2006-01-31  sz000736  1.801800e+08     1  0.018657    16 -0.010989    9.0\n",
      "294175 2006-01-31  sz000805  1.378960e+08     1  0.029915    15  0.041497    2.0\n",
      "26289  2006-02-28  sh600137  1.784912e+08     1  0.020833    16  0.061225    7.0\n",
      "44888  2006-02-28  sh600234  1.680094e+08     1  0.011299    17 -0.106146    5.0\n",
      "54134  2006-02-28  sh600286  1.413600e+08     1  0.033333    17 -0.177419    1.0\n",
      "126775 2006-02-28  sh600691  1.885498e+08     1  0.025210    17 -0.024590    8.0\n",
      "144674 2006-02-28  sh600762  1.595526e+08     1  0.048611    17 -0.245032    3.0\n",
      "167045 2006-02-28  sh600847  2.065778e+08     1  0.049550    17 -0.004290   10.0\n",
      "179006 2006-02-28  sh600892  1.939200e+08     1  0.005236    17  0.135417    9.0\n",
      "221799 2006-02-28  sz000156  1.659800e+08     1  0.036145    16 -0.273255    4.0\n",
      "282836 2006-02-28  sz000736  1.782000e+08     1 -0.010989    16  0.248148    6.0\n",
      "294176 2006-02-28  sz000805  1.436178e+08     1  0.024490    17 -0.095618    2.0\n",
      "26290  2006-03-31  sh600137  1.894192e+08     1 -0.018868    23 -0.019233    8.0\n",
      "44889  2006-03-31  sh600234  1.501760e+08     1 -0.036145    23  0.118750    5.0\n",
      "54135  2006-03-31  sh600286  1.162800e+08     1 -0.019231    23 -0.343138    1.0\n",
      "108925 2006-03-31  sh600629  1.725705e+08     1 -0.025641    23  0.061402    6.0\n",
      "126776 2006-03-31  sh600691  1.839133e+08     1  0.048458    23 -0.092437    7.0\n",
      "144675 2006-03-31  sh600762  1.204570e+08     1 -0.050000    23 -0.324563    2.0\n",
      "167046 2006-03-31  sh600847  2.056912e+08     1 -0.008547    23  0.017244   10.0\n",
      "221800 2006-03-31  sz000156  1.206250e+08     1 -0.053030    23  0.000000    3.0\n",
      "251654 2006-03-31  sz000583  1.992243e+08     1 -0.044444    23 -0.116280    9.0\n",
      "294177 2006-03-31  sz000805  1.298854e+08     1 -0.013043    23 -0.171806    4.0\n",
      "...           ...       ...           ...   ...       ...   ...       ...    ...\n",
      "57053  2017-01-31  sh600301  2.892322e+09     1  0.015690    18  0.002439    4.0\n",
      "57835  2017-01-31  sh600306  2.725525e+09     1  0.015262    18 -0.001306    2.0\n",
      "258555 2017-01-31  sz000611  2.899616e+09     1  0.015784    17  0.077692    5.0\n",
      "324389 2017-01-31  sz000995  2.831432e+09     1  0.013333    18 -0.039475    3.0\n",
      "396847 2017-01-31  sz300029  2.700000e+09     1  0.010479    18  0.053333    1.0\n",
      "404369 2017-01-31  sz300120  2.900462e+09     1  0.007102    18  0.094497    6.0\n",
      "418407 2017-01-31  sz300321  2.912640e+09     1 -0.005759    18  0.024390    8.0\n",
      "418929 2017-01-31  sz300330  2.962534e+09     1 -0.006780    18  0.021046    9.0\n",
      "420284 2017-01-31  sz300354  2.967612e+09     1 -0.007404    18  0.015384   10.0\n",
      "423915 2017-01-31  sz300483  2.906490e+09     1  0.006174    18  0.028351    7.0\n",
      "57054  2017-02-28  sh600301  2.899377e+09     1  0.009828    18  0.068938    5.0\n",
      "57836  2017-02-28  sh600306  2.721963e+09     1  0.004602    18  0.060207    2.0\n",
      "158842 2017-02-28  sh600817  2.751562e+09     1 -0.002334    18  0.091812    3.0\n",
      "273941 2017-02-28  sz000691  2.974084e+09     1 -0.004329    18 -0.016303    6.0\n",
      "324390 2017-02-28  sz000995  2.719665e+09     1  0.007227    18  0.022180    1.0\n",
      "396848 2017-02-28  sz300029  2.844000e+09     1  0.016440    18 -0.062588    4.0\n",
      "418408 2017-02-28  sz300321  2.983680e+09     1  0.000000    18 -0.015476    7.0\n",
      "418930 2017-02-28  sz300330  3.024886e+09     1  0.002793    18 -0.003343   10.0\n",
      "420285 2017-02-28  sz300354  3.013267e+09     1  0.000459    18  0.019285    9.0\n",
      "423916 2017-02-28  sz300483  2.988900e+09     1 -0.003281    18 -0.005762    8.0\n",
      "57837  2017-03-31  sh600306  2.885850e+09     1  0.001236    18       NaN    3.0\n",
      "70619  2017-03-31  sh600385  2.999170e+09     1 -0.011230    18       NaN    8.0\n",
      "75787  2017-03-31  sh600423  2.959165e+09     1  0.020661    18       NaN    6.0\n",
      "158843 2017-03-31  sh600817  3.004191e+09     1 -0.003735    18       NaN    9.0\n",
      "273942 2017-03-31  sz000691  2.925594e+09     1 -0.016304    18       NaN    4.0\n",
      "324391 2017-03-31  sz000995  2.779983e+09     1  0.000000    18       NaN    2.0\n",
      "396849 2017-03-31  sz300029  2.666000e+09     1 -0.009658    18       NaN    1.0\n",
      "418409 2017-03-31  sz300321  2.937504e+09     1 -0.003614    18       NaN    5.0\n",
      "418931 2017-03-31  sz300330  3.014774e+09     1 -0.013238    18       NaN   10.0\n",
      "423917 2017-03-31  sz300483  2.971680e+09     1 -0.005761    18       NaN    7.0\n",
      "\n",
      "[1350 rows x 8 columns]\n",
      "            所有股票下月涨幅  选中股票下月涨幅\n",
      "交易日期                          \n",
      "2006-01-31  0.033013  0.146760\n",
      "2006-02-28  0.006364 -0.048156\n",
      "2006-03-31  0.070087 -0.087006\n",
      "2006-04-30  0.252339  0.167668\n",
      "2006-05-31  0.057922  0.112699\n",
      "2006-06-30 -0.036124  0.056081\n",
      "2006-07-31  0.033913 -0.034218\n",
      "2006-08-31  0.053271  0.210674\n",
      "2006-09-30 -0.001319 -0.013335\n",
      "2006-10-31  0.044729  0.013975\n",
      "2006-11-30  0.054211  0.027258\n",
      "2006-12-31  0.240581  0.233648\n",
      "2007-01-31  0.188149  0.311959\n",
      "2007-02-28  0.173430  0.232519\n",
      "2007-03-31  0.333640  0.301186\n",
      "2007-04-30  0.096984  0.107799\n",
      "2007-05-31 -0.167584 -0.215822\n",
      "2007-06-30  0.241523  0.304534\n",
      "2007-07-31  0.125553  0.186665\n",
      "2007-08-31  0.037336  0.057082\n",
      "2007-09-30 -0.101045 -0.096840\n",
      "2007-10-31 -0.071712  0.065536\n",
      "2007-11-30  0.203152  0.155210\n",
      "2007-12-31 -0.068967 -0.051093\n",
      "2008-01-31  0.085972  0.095932\n",
      "2008-02-29 -0.196950 -0.165402\n",
      "2008-03-31 -0.041622 -0.072877\n",
      "2008-04-30 -0.030860 -0.031721\n",
      "2008-05-31 -0.247371 -0.224187\n",
      "2008-06-30  0.091579  0.106718\n",
      "...              ...       ...\n",
      "2014-10-31  0.058457  0.025641\n",
      "2014-11-30 -0.034582 -0.089677\n",
      "2014-12-31  0.075141  0.144458\n",
      "2015-01-31  0.074840  0.086148\n",
      "2015-02-28  0.225425  0.287222\n",
      "2015-03-31  0.169461  0.208169\n",
      "2015-04-30  0.252888  0.338469\n",
      "2015-05-31 -0.108027 -0.011639\n",
      "2015-06-30 -0.184362 -0.160586\n",
      "2015-07-31 -0.142190 -0.029209\n",
      "2015-08-31 -0.022164 -0.013650\n",
      "2015-09-30  0.236684  0.313709\n",
      "2015-10-31  0.115837  0.218673\n",
      "2015-11-30  0.070685  0.194189\n",
      "2015-12-31 -0.300450 -0.315397\n",
      "2016-01-31 -0.018629  0.016872\n",
      "2016-02-29  0.203446  0.272078\n",
      "2016-03-31 -0.005448  0.132645\n",
      "2016-04-30 -0.011367 -0.063098\n",
      "2016-05-31  0.058900  0.072563\n",
      "2016-06-30 -0.006464 -0.007639\n",
      "2016-07-31  0.049375  0.035268\n",
      "2016-08-31 -0.011406  0.068641\n",
      "2016-09-30  0.037993  0.048911\n",
      "2016-10-31  0.030362  0.028140\n",
      "2016-11-30 -0.052963  0.112726\n",
      "2016-12-31 -0.029190 -0.040997\n",
      "2017-01-31  0.045768  0.027635\n",
      "2017-02-28  0.021844  0.015895\n",
      "2017-03-31       NaN       NaN\n",
      "\n",
      "[135 rows x 2 columns]\n"
     ]
    }
   ],
   "source": [
    "stock_data['交易日期'] = pd.to_datetime(stock_data['交易日期'])\n",
    "stock_data.sort_values(by = ['交易日期','股票代码'], inplace =  True)\n",
    "stock_data = stock_data[stock_data['交易日期'] > pd.to_datetime('20060130')]\n",
    "stock_data = stock_data[stock_data['是否交易'] != 0]\n",
    "stock_data = stock_data[stock_data['交易天数'] >= 10]\n",
    "stock_data = stock_data[stock_data['最后一天涨跌幅'] <= 0.097]\n",
    "output = pd.DataFrame()\n",
    "output['所有股票下月涨幅'] = stock_data.groupby('交易日期')['下月涨幅'].mean()\n",
    "stock_data['市值_排名'] = stock_data.groupby('交易日期')['总市值'].rank()\n",
    "stock_data = stock_data[stock_data['市值_排名'] <= 10]\n",
    "output['选中股票下月涨幅'] = stock_data.groupby('交易日期')['下月涨幅'].mean()\n",
    "print(stock_data)\n",
    "print(output)"
   ]
  },
  {
   "cell_type": "code",
   "execution_count": 114,
   "metadata": {},
   "outputs": [],
   "source": [
    "stock_data['股票代码'] += ' '"
   ]
  },
  {
   "cell_type": "code",
   "execution_count": 115,
   "metadata": {},
   "outputs": [],
   "source": [
    "output['股票代码'] = stock_data.groupby('交易日期')['股票代码'].sum()"
   ]
  },
  {
   "cell_type": "code",
   "execution_count": 116,
   "metadata": {},
   "outputs": [],
   "source": [
    "output['line_benchmark'] = (output['所有股票下月涨幅'] + 1).cumprod()"
   ]
  },
  {
   "cell_type": "code",
   "execution_count": 117,
   "metadata": {},
   "outputs": [],
   "source": [
    "output['line'] = (output['选中股票下月涨幅'] + 1).cumprod()"
   ]
  },
  {
   "cell_type": "code",
   "execution_count": 118,
   "metadata": {},
   "outputs": [
    {
     "name": "stdout",
     "output_type": "stream",
     "text": [
      "            所有股票下月涨幅  选中股票下月涨幅                                               股票代码  line_benchmark        line\n",
      "交易日期                                                                                                         \n",
      "2006-01-31  0.033013  0.146760  sh600137 sh600234 sh600286 sh600691 sh600762 s...        1.033013    1.146760\n",
      "2006-02-28  0.006364 -0.048156  sh600137 sh600234 sh600286 sh600691 sh600762 s...        1.039587    1.091536\n",
      "2006-03-31  0.070087 -0.087006  sh600137 sh600234 sh600286 sh600629 sh600691 s...        1.112449    0.996566\n",
      "2006-04-30  0.252339  0.167668  sh600137 sh600234 sh600286 sh600691 sh600745 s...        1.393162    1.163659\n",
      "2006-05-31  0.057922  0.112699  sh600137 sh600234 sh600691 sh600711 sh600745 s...        1.473858    1.294802\n",
      "2006-06-30 -0.036124  0.056081  sh600137 sh600242 sh600385 sh600419 sh600691 s...        1.420616    1.367415\n",
      "2006-07-31  0.033913 -0.034218  sh600234 sh600242 sh600419 sh600691 sh600703 s...        1.468793    1.320625\n",
      "2006-08-31  0.053271  0.210674  sh600092 sh600234 sh600419 sh600691 sh600703 s...        1.547037    1.598846\n",
      "2006-09-30 -0.001319 -0.013335  sh600234 sh600419 sh600691 sh600745 sh600847 s...        1.544997    1.577525\n",
      "2006-10-31  0.044729  0.013975  sh600234 sh600385 sh600419 sh600691 sh600721 s...        1.614104    1.599571\n",
      "2006-11-30  0.054211  0.027258  sh600234 sh600242 sh600419 sh600691 sh600703 s...        1.701607    1.643171\n",
      "2006-12-31  0.240581  0.233648  sh600242 sh600385 sh600419 sh600703 sh600745 s...        2.110981    2.027094\n",
      "2007-01-31  0.188149  0.311959  sh600242 sh600703 sh600745 sh600847 sz000035 s...        2.508161    2.659465\n",
      "2007-02-28  0.173430  0.232519  sh600242 sh600703 sh600711 sh600892 sz000008 s...        2.943152    3.277842\n",
      "2007-03-31  0.333640  0.301186  sh600242 sh600703 sh600711 sh600847 sz000008 s...        3.925105    4.265081\n",
      "2007-04-30  0.096984  0.107799  sh600136 sh600444 sh600513 sh600706 sh600847 s...        4.305778    4.724854\n",
      "2007-05-31 -0.167584 -0.215822  sh600444 sh600647 sh600706 sh600711 sh600847 s...        3.584199    3.705126\n",
      "2007-06-30  0.241523  0.304534  sh600419 sh600444 sh600593 sh600706 sh600711 s...        4.449865    4.833463\n",
      "2007-07-31  0.125553  0.186665  sh600419 sh600444 sh600706 sh600847 sz000004 s...        5.008559    5.735699\n",
      "2007-08-31  0.037336  0.057082  sh600419 sh600513 sh600706 sh600847 sz000004 s...        5.195556    6.063106\n",
      "2007-09-30 -0.101045 -0.096840  sh600419 sh600455 sh600847 sz000004 sz000008 s...        4.670569    5.475958\n",
      "2007-10-31 -0.071712  0.065536  sh600419 sh600691 sh600706 sh600847 sz000008 s...        4.335633    5.834828\n",
      "2007-11-30  0.203152  0.155210  sh600419 sh600455 sh600513 sh600706 sz000004 s...        5.216428    6.740452\n",
      "2007-12-31 -0.068967 -0.051093  sh600419 sh600647 sh600706 sh600847 sz000004 s...        4.856668    6.396060\n",
      "2008-01-31  0.085972  0.095932  sh600419 sh600455 sh600562 sh600706 sh600847 s...        5.274206    7.009645\n",
      "2008-02-29 -0.196950 -0.165402  sh600419 sh600647 sh600706 sh600847 sz000004 s...        4.235452    5.850237\n",
      "2008-03-31 -0.041622 -0.072877  sh600234 sh600419 sh600455 sh600647 sh600706 s...        4.059164    5.423889\n",
      "2008-04-30 -0.030860 -0.031721  sh600234 sh600419 sh600647 sh600706 sh600847 s...        3.933900    5.251837\n",
      "2008-05-31 -0.247371 -0.224187  sh600234 sh600647 sh600706 sh600847 sz000004 s...        2.960766    4.074446\n",
      "2008-06-30  0.091579  0.106718  sh600234 sh600419 sh600706 sh600817 sh600892 s...        3.231910    4.509262\n",
      "...              ...       ...                                                ...             ...         ...\n",
      "2014-10-31  0.058457  0.025641  sh600265 sh600444 sh600689 sh600768 sh600793 s...        8.700956   99.817171\n",
      "2014-11-30 -0.034582 -0.089677  sh600265 sh600444 sh600593 sh600719 sh600768 s...        8.400061   90.865831\n",
      "2014-12-31  0.075141  0.144458  sh600265 sh600421 sh600455 sh600689 sh600768 s...        9.031251  103.992083\n",
      "2015-01-31  0.074840  0.086148  sh600265 sh600421 sh600444 sh600455 sh600689 s...        9.707146  112.950820\n",
      "2015-02-28  0.225425  0.287222  sh600265 sh600444 sh600455 sh600603 sh600689 s...       11.895383  145.392834\n",
      "2015-03-31  0.169461  0.208169  sh600241 sh600265 sh600419 sh600444 sh600455 s...       13.911189  175.659139\n",
      "2015-04-30  0.252888  0.338469  sh600241 sh600265 sh600419 sh600444 sh600539 s...       17.429164  235.114359\n",
      "2015-05-31 -0.108027 -0.011639  sh600241 sh600385 sh600419 sh600444 sh600506 s...       15.546339  232.377855\n",
      "2015-06-30 -0.184362 -0.160586  sh600213 sh600241 sh600265 sh600444 sh600539 s...       12.680179  195.061335\n",
      "2015-07-31 -0.142190 -0.029209  sh600213 sh600241 sh600242 sh600301 sh600444 s...       10.877188  189.363729\n",
      "2015-08-31 -0.022164 -0.013650  sh600444 sh600605 sh600758 sh600768 sh600984 s...       10.636101  186.778821\n",
      "2015-09-30  0.236684  0.313709  sh600137 sh600768 sz000803 sz000856 sz000995 s...       13.153491  245.372938\n",
      "2015-10-31  0.115837  0.218673  sh600137 sh600265 sh600758 sh600768 sz000691 s...       14.677156  299.029424\n",
      "2015-11-30  0.070685  0.194189  sh600145 sh600213 sh600265 sh600506 sh600539 s...       15.714604  357.097608\n",
      "2015-12-31 -0.300450 -0.315397  sh600319 sh600539 sh600719 sh600768 sz000995 s...       10.993147  244.470254\n",
      "2016-01-31 -0.018629  0.016872  sh600099 sh600213 sh600768 sh600793 sz000856 s...       10.788352  248.594909\n",
      "2016-02-29  0.203446  0.272078  sh600099 sh600213 sz002057 sz002193 sz002205 s...       12.983201  316.232225\n",
      "2016-03-31 -0.005448  0.132645  sh600099 sh600213 sh600603 sz000995 sz002109 s...       12.912473  358.179002\n",
      "2016-04-30 -0.011367 -0.063098  sh600099 sh600306 sh600319 sh600603 sh600656 s...       12.765703  335.578628\n",
      "2016-05-31  0.058900  0.072563  sh600099 sh600306 sz000856 sz000929 sz002193 s...       13.517599  359.929203\n",
      "2016-06-30 -0.006464 -0.007639  sh600099 sh600306 sh600603 sz000611 sz000691 s...       13.430222  357.179791\n",
      "2016-07-31  0.049375  0.035268  sh600099 sh600603 sh600793 sz000611 sz000691 s...       14.093343  369.776978\n",
      "2016-08-31 -0.011406  0.068641  sh600099 sh600319 sh600603 sh600793 sz000691 s...       13.932598  395.158678\n",
      "2016-09-30  0.037993  0.048911  sh600099 sh600603 sh600793 sz000691 sz000995 s...       14.461933  414.486471\n",
      "2016-10-31  0.030362  0.028140  sh600099 sh600603 sh600793 sz000691 sz000995 s...       14.901019  426.150075\n",
      "2016-11-30 -0.052963  0.112726  sh600099 sh600306 sh600603 sh600793 sz000691 s...       14.111817  474.188332\n",
      "2016-12-31 -0.029190 -0.040997  sh600306 sh600444 sh600561 sh600719 sh600793 s...       13.699895  454.748011\n",
      "2017-01-31  0.045768  0.027635  sh600301 sh600306 sz000611 sz000995 sz300029 s...       14.326910  467.315089\n",
      "2017-02-28  0.021844  0.015895  sh600301 sh600306 sh600817 sz000691 sz000995 s...       14.639861  474.743035\n",
      "2017-03-31       NaN       NaN  sh600306 sh600385 sh600423 sh600817 sz000691 s...             NaN         NaN\n",
      "\n",
      "[135 rows x 5 columns]\n"
     ]
    }
   ],
   "source": [
    "print(output)"
   ]
  },
  {
   "cell_type": "code",
   "execution_count": 119,
   "metadata": {},
   "outputs": [
    {
     "data": {
      "image/png": "[encoded data removed]",
      "text/plain": [
       "<Figure size 432x288 with 1 Axes>"
      ]
     },
     "metadata": {
      "needs_background": "light"
     },
     "output_type": "display_data"
    }
   ],
   "source": [
    "plt.plot(output['line'])\n",
    "plt.plot(output['line_benchmark'])\n",
    "plt.legend(loc='best')\n",
    "plt.show()"
   ]
  },
  {
   "cell_type": "code",
   "execution_count": null,
   "metadata": {},
   "outputs": [],
   "source": []
  },
  {
   "cell_type": "code",
   "execution_count": null,
   "metadata": {},
   "outputs": [],
   "source": []
  }
 ],
 "metadata": {
  "kernelspec": {
   "display_name": "Python 3",
   "language": "python",
   "name": "python3"
  },
  "language_info": {
   "codemirror_mode": {
    "name": "ipython",
    "version": 3
   },
   "file_extension": ".py",
   "mimetype": "text/x-python",
   "name": "python",
   "nbconvert_exporter": "python",
   "pygments_lexer": "ipython3",
   "version": "3.6.5"
  }
 },
 "nbformat": 4,
 "nbformat_minor": 2
}
